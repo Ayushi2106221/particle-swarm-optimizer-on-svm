{
 "cells": [
  {
   "cell_type": "code",
   "execution_count": 1,
   "id": "c472c2d0",
   "metadata": {},
   "outputs": [
    {
     "data": {
      "text/plain": [
       "(800, 8)"
      ]
     },
     "execution_count": 1,
     "metadata": {},
     "output_type": "execute_result"
    }
   ],
   "source": [
    "import pandas as pd\n",
    "import numpy as np\n",
    "from sklearn.model_selection import train_test_split\n",
    "from sklearn.svm import SVC\n",
    "from sklearn.metrics import accuracy_score\n",
    "from pyswarm import pso\n",
    "from keras.preprocessing.text import Tokenizer\n",
    "from sklearn.preprocessing import LabelEncoder\n",
    "from tensorflow.keras.preprocessing.sequence import pad_sequences\n",
    "from tensorflow.keras.models import Sequential\n",
    "from tensorflow.keras.layers import Embedding, LSTM, Dense, GlobalMaxPooling1D\n",
    "from tensorflow.keras.preprocessing.text import Tokenizer\n",
    "# Load the dataset from CSV\n",
    "df = pd.read_csv(r\"D:\\Cleaned_data.csv\")\n",
    "df.isnull().sum()\n",
    "df.dropna(subset=[\"stemmed_content\"],inplace=True)\n",
    "df=df[::2000]\n",
    "df.shape\n",
    "# df.isnull().sum()\n",
    "# X = df['stemmed_content']\n",
    "# y = df['target']\n",
    "\n",
    "# tokenizer = Tokenizer()\n",
    "# tokenizer.fit_on_texts(X) \n",
    "# X_seq = tokenizer.texts_to_sequences(X) \n",
    "# X_padded = pad_sequences(X_seq, maxlen=40) \n",
    "# X_train, X_test, y_train, y_test = train_test_split(X_padded, y, test_size=0.2, random_state=42)\n",
    "# # # Assume the last column is the target\n",
    "# # X = df.iloc[:, :-1].values\n",
    "# # y = df.iloc[:, -1].values\n",
    "\n",
    "# # Split the dataset into training and testing sets\n",
    "# #X_train, X_test, y_train, y_test = train_test_split(X, y, test_size=0.2, random_state=42)\n",
    "\n",
    "# # Define the objective function for PSO\n",
    "# def objective_function(x):\n",
    "#     C = 10 ** x[0]  # Assuming x[0] represents the log10(C)\n",
    "#     gamma = 10 ** x[1]  # Assuming x[1] represents the log10(gamma)\n",
    "#     model = SVC(C=C, gamma=gamma)\n",
    "#     model.fit(X_train, y_train)\n",
    "#     y_pred = model.predict(X_test)\n",
    "#     return -accuracy_score(y_test, y_pred)  # Negative since PSO minimizes\n",
    "\n",
    "# # Set up the PSO optimizer\n",
    "# num_dimensions = 2  # Number of dimensions in the search space (C and gamma)\n",
    "# lb = [-3, -3]  # Lower bounds for C and gamma\n",
    "# ub = [3, 3]  # Upper bounds for C and gamma\n",
    "# x_opt, f_opt = pso(objective_function, lb, ub, swarmsize=10, maxiter=50)\n",
    "\n",
    "# # Convert the optimal solution to C and gamma values\n",
    "# C = 10 ** x_opt[0]\n",
    "# gamma = 10 ** x_opt[1]\n",
    "\n",
    "# # Train the final model using the best hyperparameters\n",
    "# final_model = SVC(C=C, gamma=gamma)\n",
    "# final_model.fit(X_train, y_train)\n",
    "# y_pred = final_model.predict(X_test)\n",
    "# final_accuracy = accuracy_score(y_test, y_pred)\n",
    "\n",
    "# print(\"Best hyperparameters (C, gamma):\", (C, gamma))\n",
    "# print(\"Best accuracy found by PSO:\", -f_opt)\n",
    "# print(\"Accuracy of the final model:\", final_accuracy)"
   ]
  },
  {
   "cell_type": "code",
   "execution_count": 2,
   "id": "65dc36a1",
   "metadata": {},
   "outputs": [],
   "source": [
    "df.isnull().sum()\n",
    "X = df['stemmed_content']\n",
    "y = df['target']\n"
   ]
  },
  {
   "cell_type": "code",
   "execution_count": 3,
   "id": "5eb99dd9",
   "metadata": {},
   "outputs": [],
   "source": [
    "tokenizer = Tokenizer()\n",
    "tokenizer.fit_on_texts(X) \n",
    "X_seq = tokenizer.texts_to_sequences(X) \n",
    "X_padded = pad_sequences(X_seq, maxlen=40) \n",
    "X_train, X_test, y_train, y_test = train_test_split(X_padded, y, test_size=0.2, random_state=42)"
   ]
  },
  {
   "cell_type": "code",
   "execution_count": 4,
   "id": "e2db9ab3",
   "metadata": {},
   "outputs": [],
   "source": [
    "# Define the objective function for PSO\n",
    "def objective_function(x):\n",
    "    C = 10 ** x[0]  # Assuming x[0] represents the log10(C)\n",
    "    gamma = 10 ** x[1]  # Assuming x[1] represents the log10(gamma)\n",
    "    model = SVC(C=C, gamma=gamma)\n",
    "    model.fit(X_train, y_train)\n",
    "    y_pred = model.predict(X_test)\n",
    "    return -accuracy_score(y_test, y_pred)  # Negative since PSO minimizes\n"
   ]
  },
  {
   "cell_type": "code",
   "execution_count": 5,
   "id": "27923795",
   "metadata": {},
   "outputs": [
    {
     "name": "stdout",
     "output_type": "stream",
     "text": [
      "Stopping search: maximum iterations reached --> 100\n"
     ]
    }
   ],
   "source": [
    "# Set up the PSO optimizer\n",
    "num_dimensions = 2  # Number of dimensions in the search space (C and gamma)\n",
    "# lb = [-4, -4]  # Lower bounds for C and gamma\n",
    "# ub = [4, 4]  # Upper bounds for C and gamma\n",
    "#above line giving 60% accuracy\n",
    "lb = [-1, -10]  \n",
    "ub = [1, 10] \n",
    "\n",
    "\n",
    "x_opt, f_opt = pso(objective_function, lb, ub, swarmsize=20, maxiter=100)"
   ]
  },
  {
   "cell_type": "code",
   "execution_count": 6,
   "id": "1f89868b",
   "metadata": {},
   "outputs": [],
   "source": [
    "# Convert the optimal solution to C and gamma values\n",
    "C = 10 ** x_opt[0]\n",
    "gamma = 10 ** x_opt[1]"
   ]
  },
  {
   "cell_type": "code",
   "execution_count": 7,
   "id": "019cb8e3",
   "metadata": {},
   "outputs": [],
   "source": [
    "# Train the final model using the best hyperparameters\n",
    "final_model = SVC(C=C, gamma=gamma)\n",
    "final_model.fit(X_train, y_train)\n",
    "y_pred = final_model.predict(X_test)\n",
    "final_accuracy = accuracy_score(y_test, y_pred)"
   ]
  },
  {
   "cell_type": "code",
   "execution_count": 8,
   "id": "1015f005",
   "metadata": {},
   "outputs": [
    {
     "name": "stdout",
     "output_type": "stream",
     "text": [
      "Best hyperparameters (C, gamma): (1.7703229370449836, 6.827101652037744e-08)\n",
      "Best accuracy found by PSO: 0.875\n",
      "Accuracy of the final model: 0.875\n"
     ]
    }
   ],
   "source": [
    "print(\"Best hyperparameters (C, gamma):\", (C, gamma))\n",
    "print(\"Best accuracy found by PSO:\", -f_opt)\n",
    "print(\"Accuracy of the final model:\", final_accuracy)"
   ]
  },
  {
   "cell_type": "code",
   "execution_count": null,
   "id": "fb180172",
   "metadata": {},
   "outputs": [],
   "source": []
  }
 ],
 "metadata": {
  "kernelspec": {
   "display_name": "Python 3 (ipykernel)",
   "language": "python",
   "name": "python3"
  },
  "language_info": {
   "codemirror_mode": {
    "name": "ipython",
    "version": 3
   },
   "file_extension": ".py",
   "mimetype": "text/x-python",
   "name": "python",
   "nbconvert_exporter": "python",
   "pygments_lexer": "ipython3",
   "version": "3.11.4"
  }
 },
 "nbformat": 4,
 "nbformat_minor": 5
}
